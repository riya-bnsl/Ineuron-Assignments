{
  "nbformat": 4,
  "nbformat_minor": 0,
  "metadata": {
    "colab": {
      "name": "Untitled4.ipynb",
      "provenance": []
    },
    "kernelspec": {
      "name": "python3",
      "display_name": "Python 3"
    }
  },
  "cells": [
    {
      "cell_type": "markdown",
      "metadata": {
        "id": "1AR5wjodwdDR"
      },
      "source": [
        "Q1. Pattern\n"
      ]
    },
    {
      "cell_type": "code",
      "metadata": {
        "id": "cso9VUcjwSY4",
        "outputId": "6427114f-3c8d-461e-c272-9646dc7a1107",
        "colab": {
          "base_uri": "https://localhost:8080/",
          "height": 204
        }
      },
      "source": [
        "n = 5\n",
        "for i in range(n,-(n+1),-1):\n",
        "  for j in range(n,abs(i),-1):\n",
        "    print(\"*\",end=\" \")\n",
        "  print()"
      ],
      "execution_count": 26,
      "outputs": [
        {
          "output_type": "stream",
          "text": [
            "\n",
            "* \n",
            "* * \n",
            "* * * \n",
            "* * * * \n",
            "* * * * * \n",
            "* * * * \n",
            "* * * \n",
            "* * \n",
            "* \n",
            "\n"
          ],
          "name": "stdout"
        }
      ]
    },
    {
      "cell_type": "markdown",
      "metadata": {
        "id": "oIZ93AYYxZ0t"
      },
      "source": [
        "Q2. Reverse order"
      ]
    },
    {
      "cell_type": "code",
      "metadata": {
        "id": "OKyJf-qoxfYV",
        "outputId": "3143be68-4430-4e6a-e785-86dd72d7274a",
        "colab": {
          "base_uri": "https://localhost:8080/",
          "height": 51
        }
      },
      "source": [
        "name = input()\n",
        "for i in range(len(name)-1,-1,-1):\n",
        "  print(name[i],end='')\n"
      ],
      "execution_count": 28,
      "outputs": [
        {
          "output_type": "stream",
          "text": [
            "ineuron\n",
            "norueni"
          ],
          "name": "stdout"
        }
      ]
    },
    {
      "cell_type": "code",
      "metadata": {
        "id": "LM4fvgvZxfVM"
      },
      "source": [
        ""
      ],
      "execution_count": null,
      "outputs": []
    },
    {
      "cell_type": "markdown",
      "metadata": {
        "id": "OLHPv-htwc-7"
      },
      "source": [
        ""
      ]
    }
  ]
}