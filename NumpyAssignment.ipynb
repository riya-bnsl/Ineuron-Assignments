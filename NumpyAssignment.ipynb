{
  "nbformat": 4,
  "nbformat_minor": 0,
  "metadata": {
    "colab": {
      "name": "Untitled10.ipynb",
      "provenance": [],
      "authorship_tag": "ABX9TyN6kB9kh1mKiSf22tNYpGYz"
    },
    "kernelspec": {
      "name": "python3",
      "display_name": "Python 3"
    }
  },
  "cells": [
    {
      "cell_type": "code",
      "metadata": {
        "id": "pUwo7MeQetGr"
      },
      "source": [
        "import pandas as pd\n",
        "import numpy as np"
      ],
      "execution_count": null,
      "outputs": []
    },
    {
      "cell_type": "markdown",
      "metadata": {
        "id": "BjoB-iGp3XIz"
      },
      "source": [
        "Ques 2:"
      ]
    },
    {
      "cell_type": "code",
      "metadata": {
        "id": "G0elvwOJfDIx",
        "outputId": "67e08970-b2ca-478a-cfab-a4ef08a62df4",
        "colab": {
          "base_uri": "https://localhost:8080/",
          "height": 71
        }
      },
      "source": [
        "def movingAvergae(arr,k,n):\n",
        "  y= []\n",
        "  sum =0\n",
        "  for i in range(n-k+1):\n",
        "    y.append(np.sum([arr[i:i+k]])/k)\n",
        "  print(y)\n",
        "\n",
        "arr = np.array([3, 5, 7, 2, 8, 10, 11, 65, 72, 81, 99, 100, 150])\n",
        "print(arr)\n",
        "n = arr.shape[0]\n",
        "movingAvergae(arr,3,n)\n"
      ],
      "execution_count": 29,
      "outputs": [
        {
          "output_type": "stream",
          "text": [
            "[  3   5   7   2   8  10  11  65  72  81  99 100 150]\n",
            "[5.0, 4.666666666666667, 5.666666666666667, 6.666666666666667, 9.666666666666666, 28.666666666666668, 49.333333333333336, 72.66666666666667, 84.0, 93.33333333333333, 116.33333333333333]\n"
          ],
          "name": "stdout"
        }
      ]
    },
    {
      "cell_type": "markdown",
      "metadata": {
        "id": "Q2g8HJsKpmMx"
      },
      "source": [
        "Ques 1 : VANDER() Function\n"
      ]
    },
    {
      "cell_type": "code",
      "metadata": {
        "id": "Z7PRGsNtqGDv"
      },
      "source": [
        "def myvander(arr,n,inc):\n",
        "  result = np.mat([[0 for i in range(5)] for j in range(5)])\n",
        "  for i in range(n):\n",
        "    for j in range(4,-1,-1):\n",
        "      res = arr[i] ** j\n",
        "      if inc is True:\n",
        "        result[i:i+1,j:j+1] = res\n",
        "      else:\n",
        "        result[i:i+1,n-j-1:n-j] = res\n",
        "     \n",
        "  print(result)\n",
        "    \n",
        "\n"
      ],
      "execution_count": 84,
      "outputs": []
    },
    {
      "cell_type": "code",
      "metadata": {
        "id": "BiqombuYpra3",
        "outputId": "317ed904-3a99-4352-c40c-44c6965ecb53",
        "colab": {
          "base_uri": "https://localhost:8080/",
          "height": 102
        }
      },
      "source": [
        "arr = np.array([1,2,3,4,5])\n",
        "isincreasing = 'False'\n",
        "n = arr.shape[0]\n",
        "myvander(arr,n,isincreasing)"
      ],
      "execution_count": 85,
      "outputs": [
        {
          "output_type": "stream",
          "text": [
            "[[  1   1   1   1   1]\n",
            " [ 16   8   4   2   1]\n",
            " [ 81  27   9   3   1]\n",
            " [256  64  16   4   1]\n",
            " [625 125  25   5   1]]\n"
          ],
          "name": "stdout"
        }
      ]
    }
  ]
}