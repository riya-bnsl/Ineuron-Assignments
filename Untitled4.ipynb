{
  "nbformat": 4,
  "nbformat_minor": 0,
  "metadata": {
    "colab": {
      "name": "Untitled4.ipynb",
      "provenance": []
    },
    "kernelspec": {
      "name": "python3",
      "display_name": "Python 3"
    }
  },
  "cells": [
    {
      "cell_type": "markdown",
      "metadata": {
        "id": "1AR5wjodwdDR"
      },
      "source": [
        "Q1. Multiples of 7"
      ]
    },
    {
      "cell_type": "code",
      "metadata": {
        "id": "cso9VUcjwSY4",
        "outputId": "d24f956c-243f-48a2-c63f-2a632ded3641",
        "colab": {
          "base_uri": "https://localhost:8080/",
          "height": 54
        }
      },
      "source": [
        "for i in range(2000,3201):\n",
        "  if i%7 == 0 and i%5 != 0:\n",
        "    print(i,end=',')"
      ],
      "execution_count": 23,
      "outputs": [
        {
          "output_type": "stream",
          "text": [
            "2002,2009,2016,2023,2037,2044,2051,2058,2072,2079,2086,2093,2107,2114,2121,2128,2142,2149,2156,2163,2177,2184,2191,2198,2212,2219,2226,2233,2247,2254,2261,2268,2282,2289,2296,2303,2317,2324,2331,2338,2352,2359,2366,2373,2387,2394,2401,2408,2422,2429,2436,2443,2457,2464,2471,2478,2492,2499,2506,2513,2527,2534,2541,2548,2562,2569,2576,2583,2597,2604,2611,2618,2632,2639,2646,2653,2667,2674,2681,2688,2702,2709,2716,2723,2737,2744,2751,2758,2772,2779,2786,2793,2807,2814,2821,2828,2842,2849,2856,2863,2877,2884,2891,2898,2912,2919,2926,2933,2947,2954,2961,2968,2982,2989,2996,3003,3017,3024,3031,3038,3052,3059,3066,3073,3087,3094,3101,3108,3122,3129,3136,3143,3157,3164,3171,3178,3192,3199,"
          ],
          "name": "stdout"
        }
      ]
    },
    {
      "cell_type": "markdown",
      "metadata": {
        "id": "oIZ93AYYxZ0t"
      },
      "source": [
        "Q2. User Name in Reverse order\n",
        "\n",
        "\n"
      ]
    },
    {
      "cell_type": "code",
      "metadata": {
        "id": "OKyJf-qoxfYV",
        "outputId": "c3b72a32-795d-4a52-85c7-440a76cbe9ec",
        "colab": {
          "base_uri": "https://localhost:8080/",
          "height": 51
        }
      },
      "source": [
        "name = [i for i in input().strip().split()]\n",
        "\n",
        "for i in range(len(name)-1,-1,-1):\n",
        "  print(name[i],end=' ')"
      ],
      "execution_count": 19,
      "outputs": [
        {
          "output_type": "stream",
          "text": [
            "Riya Bansal\n",
            "Bansal Riya "
          ],
          "name": "stdout"
        }
      ]
    },
    {
      "cell_type": "markdown",
      "metadata": {
        "id": "OLHPv-htwc-7"
      },
      "source": [
        "Q3. Volume of a sphere"
      ]
    },
    {
      "cell_type": "code",
      "metadata": {
        "id": "LM4fvgvZxfVM",
        "outputId": "90e6e37d-f7e8-4039-ce51-afb80da187a6",
        "colab": {
          "base_uri": "https://localhost:8080/",
          "height": 51
        }
      },
      "source": [
        "import math as m\n",
        "\n",
        "d = int(input())\n",
        "volume = ((4/3)* m.pi * ((d* 0.5) ** 3))\n",
        "print(volume)"
      ],
      "execution_count": 22,
      "outputs": [
        {
          "output_type": "stream",
          "text": [
            "12\n",
            "904.7786842338603\n"
          ],
          "name": "stdout"
        }
      ]
    }
  ]
}